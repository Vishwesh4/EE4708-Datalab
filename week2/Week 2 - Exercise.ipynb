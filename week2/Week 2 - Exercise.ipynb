{
 "cells": [
  {
   "cell_type": "raw",
   "metadata": {},
   "source": [
    "You are given cricket dataset with information collected about real ODI matches played over past few years. \n",
    "Since you are a data scientist, you decided to apply for a role in BCCI and help India with strategies to win a match.\n",
    "\n",
    "The first innings has been played and target is 300 to be chased by India.\n",
    "\n",
    "1. What is the best strategy (run rate) for first 10 overs to win the match? Justify and support your answer with empirical evidence.\n",
    "\n",
    "2. Currently India is at 50-2 (50 runs and lost 2 wickets) at the end of 10 overs. What is the best strategy for 11-20 overs?"
   ]
  },
  {
   "cell_type": "code",
   "execution_count": 1,
   "metadata": {
    "collapsed": true
   },
   "outputs": [],
   "source": [
    "import pandas as pd\n",
    "import numpy as np\n",
    "from matplotlib import pyplot as plt"
   ]
  },
  {
   "cell_type": "code",
   "execution_count": 2,
   "metadata": {
    "collapsed": true
   },
   "outputs": [],
   "source": [
    "df = pd.read_csv(\"./04_cricket_1999to2011.csv\")"
   ]
  },
  {
   "cell_type": "code",
   "execution_count": 5,
   "metadata": {},
   "outputs": [
    {
     "name": "stdout",
     "output_type": "stream",
     "text": [
      "<class 'pandas.core.frame.DataFrame'>\n",
      "RangeIndex: 126768 entries, 0 to 126767\n",
      "Data columns (total 38 columns):\n",
      "Match                        126768 non-null int64\n",
      "Date                         126768 non-null object\n",
      "Innings                      126768 non-null int64\n",
      "Over                         126768 non-null int64\n",
      "Runs                         126768 non-null int64\n",
      "Total.Runs                   126768 non-null int64\n",
      "Innings.Total.Runs           126768 non-null int64\n",
      "Runs.Remaining               126768 non-null int64\n",
      "Total.Out                    126768 non-null int64\n",
      "Innings.Total.Out            126768 non-null int64\n",
      "Outs.Remaining               126768 non-null int64\n",
      "Wickets.in.Hand              126768 non-null int64\n",
      "Run.Rate                     126768 non-null float64\n",
      "Innings.Run.Rate             126768 non-null float64\n",
      "Run.Rate.Required            125659 non-null float64\n",
      "Initial.Run.Rate.Required    126768 non-null float64\n",
      "Target.Score                 126768 non-null int64\n",
      "Day-night                    126768 non-null int64\n",
      "At.Bat                       126768 non-null object\n",
      "Fielding                     126768 non-null object\n",
      "Home.Team                    126768 non-null object\n",
      "Away.Team                    126768 non-null object\n",
      "Stadium                      126768 non-null object\n",
      "Country                      126768 non-null object\n",
      "Total.Overs                  126768 non-null int64\n",
      "Winning.Team                 126768 non-null object\n",
      "Toss.Winner                  126768 non-null object\n",
      "at.bat.wins                  126768 non-null int64\n",
      "at.bat.won.toss              126768 non-null int64\n",
      "at.bat.at.home               126768 non-null int64\n",
      "at.bat.bat.first             126768 non-null int64\n",
      "chose_bat_1st                126768 non-null int64\n",
      "chose_bat_2nd                126768 non-null int64\n",
      "forced_bat_1st               126768 non-null int64\n",
      "forced_bat_2nd               126768 non-null int64\n",
      "new.game                     126768 non-null int64\n",
      "Error.In.Data                126768 non-null int64\n",
      "common.support               126768 non-null int64\n",
      "dtypes: float64(4), int64(25), object(9)\n",
      "memory usage: 36.8+ MB\n"
     ]
    }
   ],
   "source": [
    "df"
   ]
  },
  {
   "cell_type": "code",
   "execution_count": null,
   "metadata": {
    "collapsed": true
   },
   "outputs": [],
   "source": []
  }
 ],
 "metadata": {
  "kernelspec": {
   "display_name": "Python 3",
   "language": "python",
   "name": "python3"
  },
  "language_info": {
   "codemirror_mode": {
    "name": "ipython",
    "version": 3
   },
   "file_extension": ".py",
   "mimetype": "text/x-python",
   "name": "python",
   "nbconvert_exporter": "python",
   "pygments_lexer": "ipython3",
   "version": "3.7.4"
  }
 },
 "nbformat": 4,
 "nbformat_minor": 2
}
